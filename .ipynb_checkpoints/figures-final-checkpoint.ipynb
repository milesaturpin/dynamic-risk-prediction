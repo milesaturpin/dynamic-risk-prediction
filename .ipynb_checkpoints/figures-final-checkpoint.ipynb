{
 "cells": [
  {
   "cell_type": "code",
   "execution_count": 1,
   "metadata": {},
   "outputs": [],
   "source": [
    "import pandas as pd\n",
    "import numpy as np"
   ]
  },
  {
   "cell_type": "code",
   "execution_count": null,
   "metadata": {},
   "outputs": [],
   "source": [
    "# Do for each fold -> get specificity or sensitivity over time for given \n",
    "# operating point.\n",
    "\n",
    "def find_nearest_idx(array, value):\n",
    "    array = np.asarray(array)\n",
    "    idx = (np.abs(array - value)).argmin()\n",
    "    return idx\n",
    "\n",
    "def get_sensitivity_thresh(df, level):\n",
    "    fpr, tpr, thresholds = roc_curve(y_true,y_score)\n",
    "    sensitivity_idx = find_nearest(fpr, level)\n",
    "    sensitivity_tresh = thresholds[sensitivity_idx]\n",
    "    return sensitivity_tresh\n",
    "\n",
    "def get_specificity_thresh(df, level):\n",
    "    fpr, tpr, thresholds = roc_curve(y_true=df.target,df.pred_ema)\n",
    "    specificity_idx = find_nearest(tpr, level)\n",
    "    specificity_thresh = thresholds[specificity_idx]\n",
    "    return specificity_thresh\n",
    "\n",
    "def binarize_y(df, get_thresh, level):\n",
    "    thresh = get_thresh(df, level)\n",
    "    df['pred_op_point'] = (df['pred_ema'] > thresh).astype(int)\n",
    "    return df\n",
    "\n",
    "def sens_ppv(df):\n",
    "    tp = np.sum((df['target'] == 1) & (df['pred_op_point'] == 1))\n",
    "    fp = np.sum((df['target'] == 0) & (df['pred_op_point'] == 1))\n",
    "    fn = np.sum((df['target'] == 1) & (df['pred_op_point'] == 0))\n",
    "    ppv = tp / (tp + fp)\n",
    "    sens = tp / (tp + fn)\n",
    "    return pd.Series([ppv, sens], index=['ppv', 'sens']) \n",
    "\n",
    "# Will get different thresholds for each fold \n",
    "(y_pred_ema.groupby('fold').apply(\n",
    "    lambda df: binarize_y(df, get_sensitivity_thresh, 0.75))\n",
    "    .groupby('fold').apply(\n",
    "        lambda df: df.groupby('hsa_cut').apply(sensitivity))\n",
    "    ['sens']\n",
    "    .boxplot())"
   ]
  },
  {
   "cell_type": "code",
   "execution_count": 23,
   "metadata": {},
   "outputs": [],
   "source": [
    "from scipy.stats import bernoulli\n",
    "size = 1000\n",
    "test_data = pd.DataFrame(\n",
    "    bernoulli.rvs(p=0.3, size=size), columns=['target'])\n",
    "test_data['pred_ema'] = (test_data['target'] + np.random.randn(size))\n",
    "\n",
    "test_data['hsa_cut'] = np.random.randint(1, 6+1, size=size)\n",
    "\n",
    "\n"
   ]
  },
  {
   "cell_type": "code",
   "execution_count": null,
   "metadata": {},
   "outputs": [],
   "source": []
  }
 ],
 "metadata": {
  "kernelspec": {
   "display_name": "Python 3",
   "language": "python",
   "name": "python3"
  },
  "language_info": {
   "codemirror_mode": {
    "name": "ipython",
    "version": 3
   },
   "file_extension": ".py",
   "mimetype": "text/x-python",
   "name": "python",
   "nbconvert_exporter": "python",
   "pygments_lexer": "ipython3",
   "version": "3.6.6"
  }
 },
 "nbformat": 4,
 "nbformat_minor": 2
}
